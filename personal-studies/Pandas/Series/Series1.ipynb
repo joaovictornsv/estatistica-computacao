{
 "cells": [
  {
   "cell_type": "markdown",
   "metadata": {},
   "source": [
    "<img src=\"https://upload.wikimedia.org/wikipedia/commons/thumb/e/ed/Pandas_logo.svg/1200px-Pandas_logo.svg.png\" width=300>"
   ]
  },
  {
   "cell_type": "markdown",
   "metadata": {},
   "source": [
    "**Pandas** é uma biblioteca de código aberto, licenciada por BSD, que fornece estruturas de dados de alto desempenho e fácil de usar e ferramentas de análise de dados para a linguagem de programação Python."
   ]
  },
  {
   "cell_type": "markdown",
   "metadata": {},
   "source": [
    "Tópicos abordados:\n",
    "- Criação de Series\n",
    "- Propriedades das Series\n",
    "- Técnicas para consulta e modificação de dados"
   ]
  },
  {
   "cell_type": "markdown",
   "metadata": {},
   "source": [
    "---"
   ]
  },
  {
   "cell_type": "markdown",
   "metadata": {},
   "source": [
    "## ➜ Importação"
   ]
  },
  {
   "cell_type": "code",
   "execution_count": 1,
   "metadata": {},
   "outputs": [],
   "source": [
    "import pandas as pd"
   ]
  },
  {
   "cell_type": "markdown",
   "metadata": {},
   "source": [
    "---"
   ]
  },
  {
   "cell_type": "markdown",
   "metadata": {},
   "source": [
    "## ➜ Series"
   ]
  },
  {
   "cell_type": "markdown",
   "metadata": {},
   "source": [
    "Series é uma ED (Estrutura de Dados) composta por um vetor de dados e um vetor associado de rótulos, este último chamado de índice (index). Ou seja: **Series = vetor de dados + vetor de rótulos.**"
   ]
  },
  {
   "cell_type": "markdown",
   "metadata": {},
   "source": [
    "### ✅ Criando Series"
   ]
  },
  {
   "cell_type": "markdown",
   "metadata": {},
   "source": [
    "- Com os rótulos implícitos"
   ]
  },
  {
   "cell_type": "code",
   "execution_count": 2,
   "metadata": {},
   "outputs": [
    {
     "data": {
      "text/plain": [
       "0    7.6\n",
       "1    5.0\n",
       "2    8.5\n",
       "3    9.5\n",
       "4    6.4\n",
       "dtype: float64"
      ]
     },
     "execution_count": 2,
     "metadata": {},
     "output_type": "execute_result"
    }
   ],
   "source": [
    "notas = pd.Series([7.6, 5.0, 8.5, 9.5, 6.4])\n",
    "notas"
   ]
  },
  {
   "cell_type": "markdown",
   "metadata": {},
   "source": [
    "Uma vez que não especificamos um índice para esta Series, a pandas utilizará inteiros de 0 a N-1 (onde N é o tamanho da lista, neste exemplo, N=5)"
   ]
  },
  {
   "cell_type": "markdown",
   "metadata": {},
   "source": [
    "- Especificando seus rótulos"
   ]
  },
  {
   "cell_type": "code",
   "execution_count": 3,
   "metadata": {},
   "outputs": [
    {
     "data": {
      "text/plain": [
       "M02      Bob\n",
       "M05    Dayse\n",
       "M13     Bill\n",
       "M14     Cris\n",
       "M19     Jimi\n",
       "dtype: object"
      ]
     },
     "execution_count": 3,
     "metadata": {},
     "output_type": "execute_result"
    }
   ],
   "source": [
    "lst_matriculas = ['M02', 'M05', 'M13', 'M14', 'M19']\n",
    "lst_nomes = ['Bob', 'Dayse', 'Bill', 'Cris', 'Jimi']\n",
    "alunos = pd.Series(lst_nomes, index=lst_matriculas)\n",
    "alunos"
   ]
  },
  {
   "cell_type": "markdown",
   "metadata": {},
   "source": [
    "Através do método **index** do construtor foi especificada a lista de rótulos da Series."
   ]
  },
  {
   "cell_type": "markdown",
   "metadata": {},
   "source": [
    "- A partir de um dicionário"
   ]
  },
  {
   "cell_type": "code",
   "execution_count": 4,
   "metadata": {},
   "outputs": [
    {
     "data": {
      "text/plain": [
       "M02      Bob\n",
       "M05    Dayse\n",
       "M13     Bill\n",
       "M14     Cris\n",
       "M19     Jimi\n",
       "dtype: object"
      ]
     },
     "execution_count": 4,
     "metadata": {},
     "output_type": "execute_result"
    }
   ],
   "source": [
    "dic_alunos = {\n",
    "    'M02': 'Bob',\n",
    "    'M05': 'Dayse',\n",
    "    'M13': 'Bill',\n",
    "    'M14': 'Cris',\n",
    "    'M19': 'Jimi'\n",
    "}\n",
    "alunos = pd.Series(dic_alunos)\n",
    "alunos"
   ]
  },
  {
   "cell_type": "markdown",
   "metadata": {},
   "source": [
    "Neste caso, as chaves do dicionário são automaticamente transformadas em rótulos."
   ]
  },
  {
   "cell_type": "markdown",
   "metadata": {},
   "source": [
    "#### ✔ Propriedades elementares das Series"
   ]
  },
  {
   "cell_type": "markdown",
   "metadata": {},
   "source": [
    "#### dtype"
   ]
  },
  {
   "cell_type": "markdown",
   "metadata": {},
   "source": [
    "Corresponde ao tipo dos elementos do vetor de dados. Vale a pena deixar claro que o vetor de dados de uma Series sempre conterá \n",
    "valores do **mesmo tipo**, ou seja, com o mesmo dtype."
   ]
  },
  {
   "cell_type": "markdown",
   "metadata": {},
   "source": [
    "dtype | Utilização | Tipo Python\n",
    ":---: | :---: | :---:\n",
    "int64 | números inteiros | int\n",
    "float64 | números reais | float\n",
    "bool | True/False | bool\n",
    "object | texto | str\n",
    "datetime64 | data/hora | datetime"
   ]
  },
  {
   "cell_type": "markdown",
   "metadata": {},
   "source": [
    "Outras propriedades elementares além do dtype são:\n",
    "- values: vetor de dados;\n",
    "- index: vetor de rótulos;\n",
    "- name: nome do vetor de dados;\n",
    "- size: tamanho da Series (número de elementos);\n",
    "- index.name: nome do vetor de rótulos;\n",
    "- index.dtype: dtype do vetor de rótulos."
   ]
  },
  {
   "cell_type": "markdown",
   "metadata": {},
   "source": [
    "#### ✔  Utilizando as propriedades"
   ]
  },
  {
   "cell_type": "markdown",
   "metadata": {},
   "source": [
    "Tendo em vista nossa Series `alunos`, vamos aplicar as propriedades que acabamos de ver."
   ]
  },
  {
   "cell_type": "code",
   "execution_count": 5,
   "metadata": {},
   "outputs": [
    {
     "data": {
      "text/plain": [
       "M02      Bob\n",
       "M05    Dayse\n",
       "M13     Bill\n",
       "M14     Cris\n",
       "M19     Jimi\n",
       "dtype: object"
      ]
     },
     "execution_count": 5,
     "metadata": {},
     "output_type": "execute_result"
    }
   ],
   "source": [
    "alunos"
   ]
  },
  {
   "cell_type": "code",
   "execution_count": 6,
   "metadata": {},
   "outputs": [
    {
     "data": {
      "text/plain": [
       "matrículas\n",
       "M02      Bob\n",
       "M05    Dayse\n",
       "M13     Bill\n",
       "M14     Cris\n",
       "M19     Jimi\n",
       "Name: alunos, dtype: object"
      ]
     },
     "execution_count": 6,
     "metadata": {},
     "output_type": "execute_result"
    }
   ],
   "source": [
    "# atribuir nomes para os vetores de dados e rótulos\n",
    "alunos.name = \"alunos\"\n",
    "alunos.index.name = \"matrículas\"\n",
    "alunos"
   ]
  },
  {
   "cell_type": "markdown",
   "metadata": {},
   "source": [
    "---"
   ]
  },
  {
   "cell_type": "markdown",
   "metadata": {},
   "source": [
    "### ✅ Técnicas para consulta e modificação de dados"
   ]
  },
  {
   "cell_type": "markdown",
   "metadata": {},
   "source": [
    "#### ✔ Indexação"
   ]
  },
  {
   "cell_type": "markdown",
   "metadata": {},
   "source": [
    "Utilizamos colchetes [ ] para indexar (acessar e obter) elementos de uma Series. A pandas permite o emprego de três diferentes técnicas: indexação tradicional, fatiamento e indexação booleana."
   ]
  },
  {
   "cell_type": "markdown",
   "metadata": {},
   "source": [
    "#### Indexação tradicional"
   ]
  },
  {
   "cell_type": "markdown",
   "metadata": {},
   "source": [
    "A mais simples de todas. Deve ser utilizada quando você quiser recuperar apenas **um elemento** da Series. Para isso, deve-se especificar um número inteiro ou rótulo (caso tenha) que corresponde ao índice do elemento que deseja acessar. Alguns exemplos de uso:"
   ]
  },
  {
   "cell_type": "markdown",
   "metadata": {},
   "source": [
    "Exemplo | Resultado | Explicação\n",
    ":--- | :--- | :---\n",
    "`alunos[0]` | Bob | primeiro aluno\n",
    "`alunos[1]` | Dayse | segundo aluno\n",
    "`alunos['M14']` | Cris | aluno de matricula 'M14'\n",
    "`alunos[alunos.size-1]` | Jimi | último aluno\n",
    "`alunos[-1]` | Jimi | outra forma de pegar o último aluno\n"
   ]
  },
  {
   "cell_type": "markdown",
   "metadata": {},
   "source": [
    "#### Fatiamento"
   ]
  },
  {
   "cell_type": "markdown",
   "metadata": {},
   "source": [
    "Deve ser utilizada quando você quiser recuperar **mais de um elemento** da Series. Você pode fatiar de duas formas:\n",
    "- Por intervalos (ranges) definidos por dois pontos : ;\n",
    "- Por listas."
   ]
  },
  {
   "cell_type": "markdown",
   "metadata": {},
   "source": [
    "Alguns exemplos:"
   ]
  },
  {
   "cell_type": "markdown",
   "metadata": {},
   "source": [
    "Exemplo | Resultado\n",
    ":--- | :--- \n",
    "`alunos[0:2]` | {M02: Bob, M05: Dayse}\n",
    "`alunos[2:4]` | {M13: Bill, M14: Cris}\n",
    "`alunos[:2]` | {M02: Bob, M05: Dayse}\n",
    "`alunos[2:]` | {M13: Bill, M14: Cris, M19: Jimi}\n",
    "`alunos[-2:]` | {M14: Cris, M19: Jimi}\n",
    "`alunos[1:5:2]` | {M05: Dayse, M14: Cris}\n",
    "`alunos[[2, 0, 4]]` | {M13: Bill, M02: Bob, M19: Jimi}\n",
    "`alunos[['M13', 'M02', 'M19']]` | {M13: Bill, M02: Bob, M19: Jimi}"
   ]
  },
  {
   "cell_type": "markdown",
   "metadata": {},
   "source": [
    "**⚠ Observação**:"
   ]
  },
  {
   "cell_type": "markdown",
   "metadata": {},
   "source": [
    "Uma importante diferença entre os operações de indexação e fatiamento diz respeito ao tipo do resultado retornado por cada uma das operações:\n",
    "- A indexação tradicional sempre retorna um único elemento, cujo tipo será o tipo básico Python correspondente ao dtype do vetor de dados. Por exemplo, `alunos[0]` retorna uma string (tipo str) e `notas[0]`, um float.\n",
    "- A operação de fatiamento sempre retorna uma Series, ou seja, um objeto do tipo `pandas.core.series.Series`."
   ]
  },
  {
   "cell_type": "markdown",
   "metadata": {},
   "source": [
    "#### Indexação Booleana"
   ]
  },
  {
   "cell_type": "markdown",
   "metadata": {},
   "source": [
    "Neste modo de indexação, subconjuntos de dados são selecionados com base nos valores da Series (valores do vetor de dados) e não em seus rótulos/índices."
   ]
  },
  {
   "cell_type": "code",
   "execution_count": 7,
   "metadata": {},
   "outputs": [
    {
     "data": {
      "text/plain": [
       "matrículas\n",
       "M02     Bob\n",
       "M13    Bill\n",
       "M14    Cris\n",
       "Name: alunos, dtype: object"
      ]
     },
     "execution_count": 7,
     "metadata": {},
     "output_type": "execute_result"
    }
   ],
   "source": [
    "idx_aprovados = notas[notas >= 7].index\n",
    "alunos[idx_aprovados]"
   ]
  },
  {
   "cell_type": "markdown",
   "metadata": {},
   "source": [
    "O comando `idx_aprovados = notas[notas >= 7].index` retorna para a variável `idx_aprovados` um **vetor de índices** (objeto do tipo `pandas.core.indexes.numeric.Int64Index`) que armazenará os índices de todos os elementos com valor igual ou superior a 7.0 na Series notas. Sendo assim, o comando retorna o vetor `[0, 2, 3]`.\n",
    "\n",
    "Ao usarmos esse vetor em `alunos[idx_aprovados]` estamos realizando uma operação fatiamento, recuperando os elementos 0, 2 e 3 (Bob, Bill e Cris)."
   ]
  },
  {
   "cell_type": "markdown",
   "metadata": {},
   "source": [
    "#### ✔ Busca"
   ]
  },
  {
   "cell_type": "markdown",
   "metadata": {},
   "source": [
    "- Testa se um ou mais **rótulos** pertencem a uma Series"
   ]
  },
  {
   "cell_type": "code",
   "execution_count": 8,
   "metadata": {},
   "outputs": [
    {
     "name": "stdout",
     "output_type": "stream",
     "text": [
      "True\n",
      "True\n"
     ]
    }
   ],
   "source": [
    "tem_M13 = 'M13' in alunos\n",
    "tem_M19 = 'M19' in alunos\n",
    "\n",
    "print(tem_M13)\n",
    "print(tem_M19)"
   ]
  },
  {
   "cell_type": "markdown",
   "metadata": {},
   "source": [
    "- Testa se um ou mais **valores** pertencem a uma Series (seu vetor de dados)"
   ]
  },
  {
   "cell_type": "code",
   "execution_count": 9,
   "metadata": {},
   "outputs": [
    {
     "data": {
      "text/plain": [
       "matrículas\n",
       "M02     True\n",
       "M05    False\n",
       "M13    False\n",
       "M14    False\n",
       "M19    False\n",
       "Name: alunos, dtype: bool"
      ]
     },
     "execution_count": 9,
     "metadata": {},
     "output_type": "execute_result"
    }
   ],
   "source": [
    "tem_Bob = alunos.isin(['Bob'])\n",
    "tem_Bob"
   ]
  },
  {
   "cell_type": "markdown",
   "metadata": {},
   "source": [
    "O método do pandas `isin()` recebe uma lista como parâmetro e retorna uma Series com `dtype bool` que terá o valor True para todos os rótulos associados aos valores passados como argumento na lista."
   ]
  },
  {
   "cell_type": "markdown",
   "metadata": {},
   "source": [
    "#### ✔ Modificação"
   ]
  },
  {
   "cell_type": "markdown",
   "metadata": {},
   "source": [
    "Formas básicas de inserir, modificar e excluir elementos."
   ]
  },
  {
   "cell_type": "code",
   "execution_count": 10,
   "metadata": {},
   "outputs": [
    {
     "name": "stdout",
     "output_type": "stream",
     "text": [
      "Relebrando o estado atual da Series alunos\n"
     ]
    },
    {
     "data": {
      "text/plain": [
       "matrículas\n",
       "M02      Bob\n",
       "M05    Dayse\n",
       "M13     Bill\n",
       "M14     Cris\n",
       "M19     Jimi\n",
       "Name: alunos, dtype: object"
      ]
     },
     "execution_count": 10,
     "metadata": {},
     "output_type": "execute_result"
    }
   ],
   "source": [
    "print('Relebrando o estado atual da Series alunos')\n",
    "alunos"
   ]
  },
  {
   "cell_type": "markdown",
   "metadata": {},
   "source": [
    "- Insere o aluno de matrícula M55, Rakesh"
   ]
  },
  {
   "cell_type": "code",
   "execution_count": 11,
   "metadata": {},
   "outputs": [],
   "source": [
    "alunos['M55'] = 'Rakesh'"
   ]
  },
  {
   "cell_type": "markdown",
   "metadata": {},
   "source": [
    "- Alterando os nomes Bill, Cris e Jimi para Billy, Cristy e Jimmy"
   ]
  },
  {
   "cell_type": "code",
   "execution_count": 12,
   "metadata": {},
   "outputs": [],
   "source": [
    "alunos['M13'] = 'Billy'\n",
    "alunos[['M14', 'M19']] = ['Cristy', 'Jimmy']"
   ]
  },
  {
   "cell_type": "markdown",
   "metadata": {},
   "source": [
    "- Remove o aluno de matrícula M02 (Bob)"
   ]
  },
  {
   "cell_type": "code",
   "execution_count": 13,
   "metadata": {},
   "outputs": [],
   "source": [
    "alunos = alunos.drop('M02')"
   ]
  },
  {
   "cell_type": "markdown",
   "metadata": {},
   "source": [
    "Series alunos após as alterações:"
   ]
  },
  {
   "cell_type": "code",
   "execution_count": 14,
   "metadata": {},
   "outputs": [
    {
     "data": {
      "text/plain": [
       "matrículas\n",
       "M05     Dayse\n",
       "M13     Billy\n",
       "M14    Cristy\n",
       "M19     Jimmy\n",
       "M55    Rakesh\n",
       "Name: alunos, dtype: object"
      ]
     },
     "execution_count": 14,
     "metadata": {},
     "output_type": "execute_result"
    }
   ],
   "source": [
    "alunos"
   ]
  },
  {
   "cell_type": "markdown",
   "metadata": {},
   "source": [
    "**⚠ Observação:**"
   ]
  },
  {
   "cell_type": "markdown",
   "metadata": {},
   "source": [
    "Vale ressaltar que não apenas a modificação, mas também a inclusão e remoção suportam o uso de listas para que seja possível inserir ou remover muitos elementos de uma vez."
   ]
  },
  {
   "cell_type": "markdown",
   "metadata": {},
   "source": [
    "- Modificando Índices"
   ]
  },
  {
   "cell_type": "markdown",
   "metadata": {},
   "source": [
    "`alunos.index = ['M91', 'M92', 'M93', 'M94', 'M95']`"
   ]
  },
  {
   "cell_type": "markdown",
   "metadata": {},
   "source": [
    "O comando acima alterará os rótulos da Series alunos, o primeiro rótulo será alterado 'M91', o segundo, para 'M92', e assim sucessivamente."
   ]
  }
 ],
 "metadata": {
  "kernelspec": {
   "display_name": "Python 3",
   "language": "python",
   "name": "python3"
  },
  "language_info": {
   "codemirror_mode": {
    "name": "ipython",
    "version": 3
   },
   "file_extension": ".py",
   "mimetype": "text/x-python",
   "name": "python",
   "nbconvert_exporter": "python",
   "pygments_lexer": "ipython3",
   "version": "3.8.5"
  }
 },
 "nbformat": 4,
 "nbformat_minor": 4
}
