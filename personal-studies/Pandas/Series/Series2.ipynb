{
 "cells": [
  {
   "cell_type": "markdown",
   "metadata": {},
   "source": [
    "<img src=\"https://upload.wikimedia.org/wikipedia/commons/thumb/e/ed/Pandas_logo.svg/1200px-Pandas_logo.svg.png\" width=300>"
   ]
  },
  {
   "cell_type": "markdown",
   "metadata": {},
   "source": [
    "**Pandas** é uma biblioteca de código aberto, licenciada por BSD, que fornece estruturas de dados de alto desempenho e fácil de usar e ferramentas de análise de dados para a linguagem de programação Python."
   ]
  },
  {
   "cell_type": "markdown",
   "metadata": {},
   "source": [
    "Tópicos abordados:\n",
    "- Computação Vetorizada\n"
   ]
  },
  {
   "cell_type": "markdown",
   "metadata": {},
   "source": [
    "---"
   ]
  },
  {
   "cell_type": "markdown",
   "metadata": {},
   "source": [
    "## ➜ Importação"
   ]
  },
  {
   "cell_type": "code",
   "execution_count": 1,
   "metadata": {},
   "outputs": [],
   "source": [
    "import pandas as pd\n",
    "import numpy as np"
   ]
  },
  {
   "cell_type": "markdown",
   "metadata": {},
   "source": [
    "---"
   ]
  },
  {
   "cell_type": "markdown",
   "metadata": {},
   "source": [
    "### ✅ Computação Vetorizada"
   ]
  },
  {
   "cell_type": "markdown",
   "metadata": {},
   "source": [
    "#### ✔ Operações aritméticas"
   ]
  },
  {
   "cell_type": "code",
   "execution_count": 8,
   "metadata": {},
   "outputs": [
    {
     "name": "stdout",
     "output_type": "stream",
     "text": [
      "s1:\n",
      "0    2\n",
      "1    4\n",
      "2    6\n",
      "dtype: int64\n",
      "------\n",
      "s2:\n",
      "0    1\n",
      "1    3\n",
      "2    5\n",
      "dtype: int64\n"
     ]
    }
   ],
   "source": [
    "# Criando as Series\n",
    "s1 = pd.Series([2, 4, 6])\n",
    "s2 = pd.Series([1, 3, 5])\n",
    "print(f's1:\\n{s1}')\n",
    "print('------')\n",
    "print(f's2:\\n{s2}')"
   ]
  },
  {
   "cell_type": "code",
   "execution_count": 11,
   "metadata": {},
   "outputs": [
    {
     "name": "stdout",
     "output_type": "stream",
     "text": [
      "0     4\n",
      "1     8\n",
      "2    12\n",
      "dtype: int64\n"
     ]
    }
   ],
   "source": [
    "# Multiplicação\n",
    "print(s1 * 2)"
   ]
  },
  {
   "cell_type": "code",
   "execution_count": 13,
   "metadata": {},
   "outputs": [
    {
     "name": "stdout",
     "output_type": "stream",
     "text": [
      "0     3\n",
      "1     7\n",
      "2    11\n",
      "dtype: int64\n"
     ]
    }
   ],
   "source": [
    "# Adição\n",
    "print(s1 + s2)"
   ]
  },
  {
   "cell_type": "code",
   "execution_count": 14,
   "metadata": {},
   "outputs": [
    {
     "name": "stdout",
     "output_type": "stream",
     "text": [
      "0    1.414214\n",
      "1    2.000000\n",
      "2    2.449490\n",
      "dtype: float64\n"
     ]
    }
   ],
   "source": [
    "# Raiz quadrada com o Numpy\n",
    "print(np.sqrt(s1))"
   ]
  },
  {
   "cell_type": "markdown",
   "metadata": {},
   "source": [
    "**⚠ Observação:**"
   ]
  },
  {
   "cell_type": "markdown",
   "metadata": {},
   "source": [
    "Uma Series é na verdade um array NumPy de dados associado a um array de rótulos. Por este motivo, normalmente é possível aplicar qualquer função matemática disponibilizada pela NumPy sobre os dados de uma Series"
   ]
  },
  {
   "cell_type": "markdown",
   "metadata": {},
   "source": [
    "#### ✔ O valor NaN"
   ]
  },
  {
   "cell_type": "markdown",
   "metadata": {},
   "source": [
    "*NaN* é o conceito utilizado pela pandas para marcar valores nulos/ausentes (missing) ou desconhecidos."
   ]
  },
  {
   "cell_type": "markdown",
   "metadata": {},
   "source": [
    "O resultado de qualquer operação aritmética envolvendo um número conhecido e um desconhecido resultará **sempre em desconhecido** (ou seja *NaN*).\n",
    "- Por exemplo: 1 + desconhecido = desconhecido."
   ]
  },
  {
   "cell_type": "markdown",
   "metadata": {},
   "source": [
    "#### `isnull()`"
   ]
  },
  {
   "cell_type": "markdown",
   "metadata": {},
   "source": [
    "Este método recebe como entrada uma Serie `s`, gerando como saída uma outra Series com dtype `bool`, que indica quais dos rótulos de `s` estão associados a valores (*NaN*). Existe também o método `notnull()` que faz o oposto, retornando False para todos os valores nulos."
   ]
  },
  {
   "cell_type": "markdown",
   "metadata": {},
   "source": [
    "---"
   ]
  },
  {
   "cell_type": "markdown",
   "metadata": {},
   "source": [
    "### ✅ Índices Datetime"
   ]
  },
  {
   "cell_type": "markdown",
   "metadata": {},
   "source": [
    "A estrutura Series foi originalmente projetada para lidar com **séries temporais**, um dos temas mais estudados no campo da Estatística."
   ]
  },
  {
   "cell_type": "markdown",
   "metadata": {},
   "source": [
    "Uma série temporal consiste em uma série de dados coletados em incrementos sucessivos de tempo ou algum outro tipo de indicador de sequência. Um exemplo é o código abaixo:"
   ]
  },
  {
   "cell_type": "code",
   "execution_count": 18,
   "metadata": {},
   "outputs": [
    {
     "data": {
      "text/plain": [
       "10/02/2019    31\n",
       "11/02/2019    35\n",
       "12/02/2019    34\n",
       "13/02/2019    28\n",
       "14/02/2019    27\n",
       "15/02/2019    27\n",
       "dtype: int64"
      ]
     },
     "execution_count": 18,
     "metadata": {},
     "output_type": "execute_result"
    }
   ],
   "source": [
    "dias = [\n",
    "    '10/02/2019',\n",
    "    '11/02/2019',\n",
    "    '12/02/2019',\n",
    "    '13/02/2019',\n",
    "    '14/02/2019',\n",
    "    '15/02/2019'\n",
    "]\n",
    "\n",
    "temp_max = [31, 35, 34, 28, 27, 27]\n",
    "serie_temporal = pd.Series(temp_max, index=dias)\n",
    "serie_temporal"
   ]
  },
  {
   "cell_type": "markdown",
   "metadata": {},
   "source": [
    "Na Series acima cada rótulo representa um determinado dia do ano acompanhado da temperatura registrada no dia em questão (dado)."
   ]
  },
  {
   "cell_type": "markdown",
   "metadata": {},
   "source": [
    "Podemos definir o dtype do nosso vetor de índices através do seguinte código:"
   ]
  },
  {
   "cell_type": "code",
   "execution_count": 19,
   "metadata": {},
   "outputs": [
    {
     "data": {
      "text/plain": [
       "2019-02-10    31\n",
       "2019-02-11    35\n",
       "2019-02-12    34\n",
       "2019-02-13    28\n",
       "2019-02-14    27\n",
       "2019-02-15    27\n",
       "dtype: int64"
      ]
     },
     "execution_count": 19,
     "metadata": {},
     "output_type": "execute_result"
    }
   ],
   "source": [
    "serie_temporal.index = pd.to_datetime(\n",
    "    serie_temporal.index,\n",
    "    format='%d/%m/%Y'\n",
    ")\n",
    "\n",
    "serie_temporal"
   ]
  },
  {
   "cell_type": "markdown",
   "metadata": {},
   "source": [
    "O método `to_datetime()` recebe dois parâmetros:\n",
    "- O vetor de índices a ser convertido"
   ]
  },
  {
   "cell_type": "markdown",
   "metadata": {},
   "source": [
    "- format='%d/%m/%Y'. Esse parâmetro format é utilizado para que possamos informar a pandas o formato da data (data string). Para indicar este formato, foi preciso utilizar as máscaras %d (dia), %m (mês), %Y (ano com quatro dígitos) combinadas com o caractere '/'. No mundo Python, essas máscaras são chamadas de diretivas (directives)."
   ]
  },
  {
   "cell_type": "markdown",
   "metadata": {},
   "source": [
    "---"
   ]
  },
  {
   "cell_type": "markdown",
   "metadata": {},
   "source": [
    "### ✅ Indexação Hierárquica"
   ]
  },
  {
   "cell_type": "markdown",
   "metadata": {},
   "source": [
    "A indexação hierárquica é um recurso oferecido pela pandas para permitir que você trabalhe com **mais de um nível de indexação**."
   ]
  },
  {
   "cell_type": "markdown",
   "metadata": {},
   "source": [
    "Desta vez, criaremos uma Series que guardará os nomes das moedas de cinco países e que poderá ser indexada de duas formas: a sigla do país e o nome de seu continente."
   ]
  },
  {
   "cell_type": "code",
   "execution_count": 39,
   "metadata": {},
   "outputs": [
    {
     "data": {
      "text/plain": [
       "America  AR     Peso\n",
       "         BR     Real\n",
       "Europa   FR     Euro\n",
       "         IT     Euro\n",
       "         UK    Libra\n",
       "dtype: object"
      ]
     },
     "execution_count": 39,
     "metadata": {},
     "output_type": "execute_result"
    }
   ],
   "source": [
    "moedas = ['Peso', 'Real', 'Euro', 'Euro', 'Libra']\n",
    "paises = [\n",
    "    ['America', 'America', 'Europa', 'Europa', 'Europa'],\n",
    "    ['AR', 'BR', 'FR', 'IT', 'UK']\n",
    "]\n",
    "\n",
    "paises = pd.Series(moedas, index=paises)\n",
    "paises"
   ]
  },
  {
   "cell_type": "markdown",
   "metadata": {},
   "source": [
    "- Acessando os valores"
   ]
  },
  {
   "cell_type": "code",
   "execution_count": 40,
   "metadata": {},
   "outputs": [
    {
     "data": {
      "text/plain": [
       "AR    Peso\n",
       "BR    Real\n",
       "dtype: object"
      ]
     },
     "execution_count": 40,
     "metadata": {},
     "output_type": "execute_result"
    }
   ],
   "source": [
    "paises['America']"
   ]
  },
  {
   "cell_type": "code",
   "execution_count": 41,
   "metadata": {},
   "outputs": [
    {
     "data": {
      "text/plain": [
       "Europa    Euro\n",
       "dtype: object"
      ]
     },
     "execution_count": 41,
     "metadata": {},
     "output_type": "execute_result"
    }
   ],
   "source": [
    "paises[:, 'IT']"
   ]
  },
  {
   "cell_type": "code",
   "execution_count": 42,
   "metadata": {},
   "outputs": [
    {
     "data": {
      "text/plain": [
       "'Euro'"
      ]
     },
     "execution_count": 42,
     "metadata": {},
     "output_type": "execute_result"
    }
   ],
   "source": [
    "paises['Europa', 'IT']"
   ]
  },
  {
   "cell_type": "markdown",
   "metadata": {},
   "source": [
    "Neste programa, a Series paises foi criada com um vetor de rótulos indexado em dois níveis. No primeiro nível temos o nome do continente ('America' ou 'Europa') e, no segundo, a sigal do país ('AR', 'BR', 'FR', 'IT' e 'UK'). Com isso, torna-se possível indexar os dados de três formas: apenas pelo nível 1, apenas pelo nível 2 ou por ambos."
   ]
  },
  {
   "cell_type": "markdown",
   "metadata": {},
   "source": [
    "`paises['America']`: Indexação pelo nível 1. O resultado é uma Series contendo as siglas e moedas dos países da América\n",
    "\n",
    "`paises[:, 'IT']`:  Indexação pelo nível 2. O resultado é uma Series com um único elemento, em que o rótulo é o nome do continente e o valor é o nome da moeda da Itália.\n",
    "\n",
    "`paises['Europa', 'IT']` Indexação pelo nível 3. O resultado é o valor 'Euro', pois este é o valor do elemento cujo nível 1 do índice 'Europa' e o nível 2 'IT'."
   ]
  }
 ],
 "metadata": {
  "kernelspec": {
   "display_name": "Python 3",
   "language": "python",
   "name": "python3"
  },
  "language_info": {
   "codemirror_mode": {
    "name": "ipython",
    "version": 3
   },
   "file_extension": ".py",
   "mimetype": "text/x-python",
   "name": "python",
   "nbconvert_exporter": "python",
   "pygments_lexer": "ipython3",
   "version": "3.8.5"
  }
 },
 "nbformat": 4,
 "nbformat_minor": 4
}
